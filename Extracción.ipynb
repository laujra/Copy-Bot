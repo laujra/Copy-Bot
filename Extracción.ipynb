{
  "nbformat": 4,
  "nbformat_minor": 0,
  "metadata": {
    "colab": {
      "provenance": []
    },
    "kernelspec": {
      "name": "python3",
      "display_name": "Python 3"
    },
    "language_info": {
      "name": "python"
    }
  },
  "cells": [
    {
      "cell_type": "code",
      "execution_count": null,
      "metadata": {
        "colab": {
          "base_uri": "https://localhost:8080/"
        },
        "id": "NRjJfD0L8Mrd",
        "outputId": "ea476b89-096b-4495-cb2f-53ba35d43586"
      },
      "outputs": [
        {
          "output_type": "stream",
          "name": "stdout",
          "text": [
            "Looking in indexes: https://pypi.org/simple, https://us-python.pkg.dev/colab-wheels/public/simple/\n",
            "Requirement already satisfied: pip in /usr/local/lib/python3.7/dist-packages (21.1.3)\n",
            "Collecting pip\n",
            "  Downloading pip-22.3.1-py3-none-any.whl (2.1 MB)\n",
            "\u001b[K     |████████████████████████████████| 2.1 MB 4.8 MB/s \n",
            "\u001b[?25hInstalling collected packages: pip\n",
            "  Attempting uninstall: pip\n",
            "    Found existing installation: pip 21.1.3\n",
            "    Uninstalling pip-21.1.3:\n",
            "      Successfully uninstalled pip-21.1.3\n",
            "Successfully installed pip-22.3.1\n",
            "Looking in indexes: https://pypi.org/simple, https://us-python.pkg.dev/colab-wheels/public/simple/\n",
            "Requirement already satisfied: tweepy in /usr/local/lib/python3.7/dist-packages (3.10.0)\n",
            "Requirement already satisfied: requests[socks]>=2.11.1 in /usr/local/lib/python3.7/dist-packages (from tweepy) (2.23.0)\n",
            "Requirement already satisfied: six>=1.10.0 in /usr/local/lib/python3.7/dist-packages (from tweepy) (1.15.0)\n",
            "Requirement already satisfied: requests-oauthlib>=0.7.0 in /usr/local/lib/python3.7/dist-packages (from tweepy) (1.3.1)\n",
            "Requirement already satisfied: oauthlib>=3.0.0 in /usr/local/lib/python3.7/dist-packages (from requests-oauthlib>=0.7.0->tweepy) (3.2.2)\n",
            "Requirement already satisfied: certifi>=2017.4.17 in /usr/local/lib/python3.7/dist-packages (from requests[socks]>=2.11.1->tweepy) (2022.9.24)\n",
            "Requirement already satisfied: urllib3!=1.25.0,!=1.25.1,<1.26,>=1.21.1 in /usr/local/lib/python3.7/dist-packages (from requests[socks]>=2.11.1->tweepy) (1.24.3)\n",
            "Requirement already satisfied: chardet<4,>=3.0.2 in /usr/local/lib/python3.7/dist-packages (from requests[socks]>=2.11.1->tweepy) (3.0.4)\n",
            "Requirement already satisfied: idna<3,>=2.5 in /usr/local/lib/python3.7/dist-packages (from requests[socks]>=2.11.1->tweepy) (2.10)\n",
            "Requirement already satisfied: PySocks!=1.5.7,>=1.5.6 in /usr/local/lib/python3.7/dist-packages (from requests[socks]>=2.11.1->tweepy) (1.7.1)\n",
            "\u001b[33mWARNING: Running pip as the 'root' user can result in broken permissions and conflicting behaviour with the system package manager. It is recommended to use a virtual environment instead: https://pip.pypa.io/warnings/venv\u001b[0m\u001b[33m\n",
            "\u001b[0mLooking in indexes: https://pypi.org/simple, https://us-python.pkg.dev/colab-wheels/public/simple/\n",
            "\u001b[31mERROR: Could not find a version that satisfies the requirement json (from versions: none)\u001b[0m\u001b[31m\n",
            "\u001b[0m\u001b[31mERROR: No matching distribution found for json\u001b[0m\u001b[31m\n",
            "\u001b[0mLooking in indexes: https://pypi.org/simple, https://us-python.pkg.dev/colab-wheels/public/simple/\n",
            "Requirement already satisfied: googletrans in /usr/local/lib/python3.7/dist-packages (3.0.0)\n",
            "Requirement already satisfied: httpx==0.13.3 in /usr/local/lib/python3.7/dist-packages (from googletrans) (0.13.3)\n",
            "Requirement already satisfied: idna==2.* in /usr/local/lib/python3.7/dist-packages (from httpx==0.13.3->googletrans) (2.10)\n",
            "Requirement already satisfied: hstspreload in /usr/local/lib/python3.7/dist-packages (from httpx==0.13.3->googletrans) (2022.11.1)\n",
            "Requirement already satisfied: httpcore==0.9.* in /usr/local/lib/python3.7/dist-packages (from httpx==0.13.3->googletrans) (0.9.1)\n",
            "Requirement already satisfied: chardet==3.* in /usr/local/lib/python3.7/dist-packages (from httpx==0.13.3->googletrans) (3.0.4)\n",
            "Requirement already satisfied: certifi in /usr/local/lib/python3.7/dist-packages (from httpx==0.13.3->googletrans) (2022.9.24)\n",
            "Requirement already satisfied: sniffio in /usr/local/lib/python3.7/dist-packages (from httpx==0.13.3->googletrans) (1.3.0)\n",
            "Requirement already satisfied: rfc3986<2,>=1.3 in /usr/local/lib/python3.7/dist-packages (from httpx==0.13.3->googletrans) (1.5.0)\n",
            "Requirement already satisfied: h2==3.* in /usr/local/lib/python3.7/dist-packages (from httpcore==0.9.*->httpx==0.13.3->googletrans) (3.2.0)\n",
            "Requirement already satisfied: h11<0.10,>=0.8 in /usr/local/lib/python3.7/dist-packages (from httpcore==0.9.*->httpx==0.13.3->googletrans) (0.9.0)\n",
            "Requirement already satisfied: hpack<4,>=3.0 in /usr/local/lib/python3.7/dist-packages (from h2==3.*->httpcore==0.9.*->httpx==0.13.3->googletrans) (3.0.0)\n",
            "Requirement already satisfied: hyperframe<6,>=5.2.0 in /usr/local/lib/python3.7/dist-packages (from h2==3.*->httpcore==0.9.*->httpx==0.13.3->googletrans) (5.2.0)\n",
            "\u001b[33mWARNING: Running pip as the 'root' user can result in broken permissions and conflicting behaviour with the system package manager. It is recommended to use a virtual environment instead: https://pip.pypa.io/warnings/venv\u001b[0m\u001b[33m\n",
            "\u001b[0mLooking in indexes: https://pypi.org/simple, https://us-python.pkg.dev/colab-wheels/public/simple/\n",
            "Requirement already satisfied: transformers in /usr/local/lib/python3.7/dist-packages (4.24.0)\n",
            "Requirement already satisfied: filelock in /usr/local/lib/python3.7/dist-packages (from transformers) (3.8.0)\n",
            "Requirement already satisfied: pyyaml>=5.1 in /usr/local/lib/python3.7/dist-packages (from transformers) (6.0)\n",
            "Requirement already satisfied: importlib-metadata in /usr/local/lib/python3.7/dist-packages (from transformers) (4.13.0)\n",
            "Requirement already satisfied: regex!=2019.12.17 in /usr/local/lib/python3.7/dist-packages (from transformers) (2022.6.2)\n",
            "Requirement already satisfied: packaging>=20.0 in /usr/local/lib/python3.7/dist-packages (from transformers) (21.3)\n",
            "Requirement already satisfied: requests in /usr/local/lib/python3.7/dist-packages (from transformers) (2.23.0)\n",
            "Requirement already satisfied: tqdm>=4.27 in /usr/local/lib/python3.7/dist-packages (from transformers) (4.64.1)\n",
            "Requirement already satisfied: numpy>=1.17 in /usr/local/lib/python3.7/dist-packages (from transformers) (1.21.6)\n",
            "Requirement already satisfied: huggingface-hub<1.0,>=0.10.0 in /usr/local/lib/python3.7/dist-packages (from transformers) (0.11.1)\n",
            "Requirement already satisfied: tokenizers!=0.11.3,<0.14,>=0.11.1 in /usr/local/lib/python3.7/dist-packages (from transformers) (0.13.2)\n",
            "Requirement already satisfied: typing-extensions>=3.7.4.3 in /usr/local/lib/python3.7/dist-packages (from huggingface-hub<1.0,>=0.10.0->transformers) (4.1.1)\n",
            "Requirement already satisfied: pyparsing!=3.0.5,>=2.0.2 in /usr/local/lib/python3.7/dist-packages (from packaging>=20.0->transformers) (3.0.9)\n",
            "Requirement already satisfied: zipp>=0.5 in /usr/local/lib/python3.7/dist-packages (from importlib-metadata->transformers) (3.10.0)\n",
            "Requirement already satisfied: certifi>=2017.4.17 in /usr/local/lib/python3.7/dist-packages (from requests->transformers) (2022.9.24)\n",
            "Requirement already satisfied: idna<3,>=2.5 in /usr/local/lib/python3.7/dist-packages (from requests->transformers) (2.10)\n",
            "Requirement already satisfied: chardet<4,>=3.0.2 in /usr/local/lib/python3.7/dist-packages (from requests->transformers) (3.0.4)\n",
            "Requirement already satisfied: urllib3!=1.25.0,!=1.25.1,<1.26,>=1.21.1 in /usr/local/lib/python3.7/dist-packages (from requests->transformers) (1.24.3)\n",
            "\u001b[33mWARNING: Running pip as the 'root' user can result in broken permissions and conflicting behaviour with the system package manager. It is recommended to use a virtual environment instead: https://pip.pypa.io/warnings/venv\u001b[0m\u001b[33m\n",
            "\u001b[0mLooking in indexes: https://pypi.org/simple, https://us-python.pkg.dev/colab-wheels/public/simple/\n",
            "Requirement already satisfied: sentencepiece in /usr/local/lib/python3.7/dist-packages (0.1.97)\n",
            "\u001b[33mWARNING: Running pip as the 'root' user can result in broken permissions and conflicting behaviour with the system package manager. It is recommended to use a virtual environment instead: https://pip.pypa.io/warnings/venv\u001b[0m\u001b[33m\n",
            "\u001b[0m"
          ]
        }
      ],
      "source": [
        "!pip install --upgrade pip\n",
        "!pip install tweepy\n",
        "!pip install json\n",
        "!pip install googletrans\n",
        "!pip install transformers\n",
        "!pip install sentencepiece\n",
        "import transformers\n",
        "from transformers import pipeline\n",
        "import tweepy\n",
        "import json\n",
        "import pandas as pd\n",
        "\n",
        "consumer_key = \"uz2DmvQ65q4G1El8bLUVdHUh0\"\n",
        "consumer_secret = \"Empr5UjFWyWivwPHT4krnhKACzJ8tIPdck2ydcmteV2Lq8zLOK\"\n",
        "access_token = \"1573341649937338371-feh5V4QMc3UkWd21beCeb0KZIwFzCr\"\n",
        "access_token_secret = \"04wbkK2UNpZ964mDRk3RHkHeSvGmbJAXX2wbhEeWgB5gX\"\n",
        "\n",
        "auth = tweepy.OAuthHandler(consumer_key, consumer_secret)\n",
        "auth.set_access_token(access_token, access_token_secret)\n",
        "api = tweepy.API(auth, wait_on_rate_limit=True)\n",
        "num_tweets=10000 #Cantidad\n"
      ]
    },
    {
      "cell_type": "code",
      "source": [
        "def extr(user):\n",
        "  dic1=pd.DataFrame() #Dataframe que almacenará los tweets\n",
        "  i=1\n",
        "  ncat=200\n",
        "  for tweet in tweepy.Cursor(api.user_timeline, count=500,screen_name = str(user),\n",
        "                            exclude_replies = True, include_rts = True,\n",
        "                            tweet_mode=\"extended\").items(num_tweets):\n",
        "    dic1=dic1.append(pd.json_normalize(tweet._json))\n",
        "    i=i+1\n",
        "    if i%ncat==0:\n",
        "      print(str(i)+\" tweets extraidos\")\n",
        "  df=pd.DataFrame(dic1)\n",
        "  (pd.DataFrame(df['full_text'])).to_excel(str(user)+'.xlsx') "
      ],
      "metadata": {
        "id": "n7_ndItW90mW"
      },
      "execution_count": null,
      "outputs": []
    },
    {
      "cell_type": "code",
      "source": [
        "extr('Nequi') #ES\n",
        "extr('DaviPlata') #ES\n",
        "extr('nubank') #POR\n",
        "extr('Chime') #EN\n",
        "extr('uala_arg') #ES\n",
        "extr('C6Bank') #POR\n",
        "extr('Wise') #EN"
      ],
      "metadata": {
        "id": "OgqpDUHihXeU"
      },
      "execution_count": null,
      "outputs": []
    },
    {
      "cell_type": "markdown",
      "source": [
        "### Nota:\n",
        "Los archivos fueron traducidos fuera del notebook para asegurar mayor precisión en la traducción"
      ],
      "metadata": {
        "id": "njQ4Qeww0uQ2"
      }
    },
    {
      "cell_type": "code",
      "source": [
        "Nequi=pd.read_excel(\"NequiEN.xlsx\",header=0,sheet_name=0)\n",
        "DaviPlata=pd.read_excel(\"DaviPlataEN.xlsx\",header=0,sheet_name=0)\n",
        "Uala=pd.read_excel(\"UalaEN.xlsx\",header=0,sheet_name=0)\n",
        "C6Bank=pd.read_excel(\"C6BankEN.xlsx\",header=0,sheet_name=0)\n",
        "Nubank=pd.read_excel(\"NubankEN.xlsx\",header=0,sheet_name=0)\n",
        "Wise=pd.read_excel(\"Wise.xlsx\",header=0,sheet_name=0)\n",
        "Chime=pd.read_excel(\"Chime.xlsx\",header=0,sheet_name=0)"
      ],
      "metadata": {
        "id": "fKn_lXLF04ze"
      },
      "execution_count": null,
      "outputs": []
    },
    {
      "cell_type": "code",
      "source": [
        "DF=pd.concat([Nequi,DaviPlata,Uala,C6Bank,Nubank,Wise,Chime], axis=0)"
      ],
      "metadata": {
        "id": "TmxosbUAOQKQ"
      },
      "execution_count": null,
      "outputs": []
    },
    {
      "cell_type": "code",
      "source": [
        "DF[\"full_text2\"] = (DF[\"full_text\"]\n",
        "                               .str.lower()\n",
        "                               .str.replace(\"nequi\",\"Neobank \", regex=True)\n",
        "                               .str.replace(\"daviplata\",\"Neobank \", regex=True)\n",
        "                               .str.replace(\"uala\",\"Neobank \", regex=True)\n",
        "                               .str.replace(\"wise\",\"Neobank \", regex=True)\n",
        "                               .str.replace(\"c6bank\",\"Neobank \", regex=True)\n",
        "                               .str.replace(\"nubank\",\"Neobank \", regex=True)\n",
        "                               .str.replace(\"chime\",\"Neobank \", regex=True)\n",
        "                               .str.strip()\n",
        "                              ) \n",
        "DF[[\"full_text\",\"full_text2\"]].tail(10)\n",
        "DF[\"full_text\"] = DF[\"full_text2\"]\n",
        "DF = DF.drop(columns=\"full_text2\")"
      ],
      "metadata": {
        "id": "o9JwXQtmqiCy"
      },
      "execution_count": 50,
      "outputs": []
    },
    {
      "cell_type": "code",
      "source": [
        "DF1=pd.DataFrame((DF[\"full_text\"]+\".\").str.capitalize())"
      ],
      "metadata": {
        "id": "pCm_QHsu3Oaw"
      },
      "execution_count": 54,
      "outputs": []
    },
    {
      "cell_type": "code",
      "source": [
        "with pd.ExcelWriter(\"TuitsNeobancos.xlsx\") as writer:\n",
        "    DF1.to_excel(writer, sheet_name=\"Tuits\", index=False)"
      ],
      "metadata": {
        "id": "hJ1LPrmwPIXt"
      },
      "execution_count": 56,
      "outputs": []
    },
    {
      "cell_type": "markdown",
      "source": [
        "## Opción 2 para extraer los TimeLine\n"
      ],
      "metadata": {
        "id": "kDV5wnL1hX_Z"
      }
    },
    {
      "cell_type": "code",
      "source": [
        "# Iniciamos un array que va a contener los datos\n",
        "simple_list = []\n",
        "# Iniciamos el for con Cursor\n",
        "# Usamos algunos parámetros extra para excluir respuestas, retweets y traer el texto completo de cada tweet\n",
        "for status in tweepy.Cursor(api.user_timeline, count=500,screen_name = \"@nubank\",\n",
        "                            exclude_replies = True, include_rts = True,\n",
        "                            tweet_mode=\"extended\").items(500):\n",
        " # Agregamos el texto, fecha, likes, retweets y hashtags al array\n",
        "    simple_list.append([status.full_text, status.created_at, status.favorite_count,\n",
        "                        status.retweet_count, [h[\"text\"] for h in status.entities[\"hashtags\"]],[h[\"screen_name\"] for h in status.entities[\"user_mentions\"]]])\n",
        "# Convertimos el array en un DataFrame y nombramos las columnas\n",
        "simple_list = pd.DataFrame(simple_list, columns=[\"Text\", \"Created at\", \"Likes\", \"Retweets\", \"Hashtags\", \"Mentions\"])\n",
        "# Guardamos en el directorio en que estamos trabajando\n",
        "simple_list.to_excel('nubank.xlsx', index = None, header=True)"
      ],
      "metadata": {
        "id": "YWIcB0k0gKK4"
      },
      "execution_count": null,
      "outputs": []
    }
  ]
}